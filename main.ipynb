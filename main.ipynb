{
 "cells": [
  {
   "cell_type": "code",
   "execution_count": 9,
   "metadata": {},
   "outputs": [],
   "source": [
    "import pandas as pd\n",
    "import numpy as np\n",
    "from sklearn.preprocessing import LabelEncoder, StandardScaler\n",
    "from sklearn.model_selection import train_test_split, GridSearchCV\n",
    "from sklearn.impute import SimpleImputer\n",
    "import matplotlib.pyplot as plt\n",
    "from sklearn.linear_model import LogisticRegression\n",
    "from sklearn.ensemble import RandomForestClassifier\n",
    "from sklearn.neural_network import MLPClassifier\n",
    "from sklearn.metrics import accuracy_score\n"
   ]
  },
  {
   "cell_type": "code",
   "execution_count": 10,
   "metadata": {},
   "outputs": [],
   "source": [
    "# Load the data\n",
    "df = pd.read_csv('bank-additional/bank-additional.csv', sep=';')"
   ]
  },
  {
   "cell_type": "code",
   "execution_count": 11,
   "metadata": {},
   "outputs": [
    {
     "name": "stdout",
     "output_type": "stream",
     "text": [
      "age               0\n",
      "job               0\n",
      "marital           0\n",
      "education         0\n",
      "default           0\n",
      "housing           0\n",
      "loan              0\n",
      "contact           0\n",
      "month             0\n",
      "day_of_week       0\n",
      "duration          0\n",
      "campaign          0\n",
      "pdays             0\n",
      "previous          0\n",
      "poutcome          0\n",
      "emp.var.rate      0\n",
      "cons.price.idx    0\n",
      "cons.conf.idx     0\n",
      "euribor3m         0\n",
      "nr.employed       0\n",
      "y                 0\n",
      "dtype: int64\n"
     ]
    }
   ],
   "source": [
    "# Check for missing values\n",
    "print(df.isnull().sum())\n",
    "\n",
    "# Handle missing values\n",
    "# For numerical columns, use median imputation\n",
    "num_columns = df.select_dtypes(include=['int64', 'float64']).columns\n",
    "num_imputer = SimpleImputer(strategy='median')\n",
    "df[num_columns] = num_imputer.fit_transform(df[num_columns])\n",
    "\n",
    "# For categorical columns, use mode imputation\n",
    "cat_columns = df.select_dtypes(include=['object']).columns\n",
    "cat_imputer = SimpleImputer(strategy='most_frequent')\n",
    "df[cat_columns] = cat_imputer.fit_transform(df[cat_columns])\n"
   ]
  },
  {
   "cell_type": "code",
   "execution_count": 4,
   "metadata": {},
   "outputs": [
    {
     "name": "stdout",
     "output_type": "stream",
     "text": [
      "\n",
      "Data Info:\n",
      "<class 'pandas.core.frame.DataFrame'>\n",
      "RangeIndex: 4119 entries, 0 to 4118\n",
      "Data columns (total 21 columns):\n",
      " #   Column          Non-Null Count  Dtype  \n",
      "---  ------          --------------  -----  \n",
      " 0   age             4119 non-null   float64\n",
      " 1   job             4119 non-null   object \n",
      " 2   marital         4119 non-null   object \n",
      " 3   education       4119 non-null   object \n",
      " 4   default         4119 non-null   object \n",
      " 5   housing         4119 non-null   object \n",
      " 6   loan            4119 non-null   object \n",
      " 7   contact         4119 non-null   object \n",
      " 8   month           4119 non-null   object \n",
      " 9   day_of_week     4119 non-null   object \n",
      " 10  duration        4119 non-null   float64\n",
      " 11  campaign        4119 non-null   float64\n",
      " 12  pdays           4119 non-null   float64\n",
      " 13  previous        4119 non-null   float64\n",
      " 14  poutcome        4119 non-null   object \n",
      " 15  emp.var.rate    4119 non-null   float64\n",
      " 16  cons.price.idx  4119 non-null   float64\n",
      " 17  cons.conf.idx   4119 non-null   float64\n",
      " 18  euribor3m       4119 non-null   float64\n",
      " 19  nr.employed     4119 non-null   float64\n",
      " 20  y               4119 non-null   object \n",
      "dtypes: float64(10), object(11)\n",
      "memory usage: 675.9+ KB\n",
      "None\n",
      "\n",
      "Descriptive Statistics:\n",
      "               age     duration     campaign        pdays     previous  \\\n",
      "count  4119.000000  4119.000000  4119.000000  4119.000000  4119.000000   \n",
      "mean     40.113620   256.788055     2.537266   960.422190     0.190337   \n",
      "std      10.313362   254.703736     2.568159   191.922786     0.541788   \n",
      "min      18.000000     0.000000     1.000000     0.000000     0.000000   \n",
      "25%      32.000000   103.000000     1.000000   999.000000     0.000000   \n",
      "50%      38.000000   181.000000     2.000000   999.000000     0.000000   \n",
      "75%      47.000000   317.000000     3.000000   999.000000     0.000000   \n",
      "max      88.000000  3643.000000    35.000000   999.000000     6.000000   \n",
      "\n",
      "       emp.var.rate  cons.price.idx  cons.conf.idx    euribor3m  nr.employed  \n",
      "count   4119.000000     4119.000000    4119.000000  4119.000000  4119.000000  \n",
      "mean       0.084972       93.579704     -40.499102     3.621356  5166.481695  \n",
      "std        1.563114        0.579349       4.594578     1.733591    73.667904  \n",
      "min       -3.400000       92.201000     -50.800000     0.635000  4963.600000  \n",
      "25%       -1.800000       93.075000     -42.700000     1.334000  5099.100000  \n",
      "50%        1.100000       93.749000     -41.800000     4.857000  5191.000000  \n",
      "75%        1.400000       93.994000     -36.400000     4.961000  5228.100000  \n",
      "max        1.400000       94.767000     -26.900000     5.045000  5228.100000  \n"
     ]
    }
   ],
   "source": [
    "print(\"\\nData Info:\")\n",
    "print(df.info())\n",
    "\n",
    "print(\"\\nDescriptive Statistics:\")\n",
    "print(df.describe())"
   ]
  },
  {
   "cell_type": "code",
   "execution_count": 12,
   "metadata": {},
   "outputs": [],
   "source": [
    "# Encode categorical variables\n",
    "label_encoder = LabelEncoder()\n",
    "for col in cat_columns:\n",
    "    df[col] = label_encoder.fit_transform(df[col].astype(str))\n",
    "\n",
    "# Scale numerical features\n",
    "scaler = StandardScaler()\n",
    "X = df.drop('y', axis=1)\n",
    "y = df['y']\n",
    "\n",
    "X_scaled = scaler.fit_transform(X)"
   ]
  },
  {
   "cell_type": "code",
   "execution_count": 16,
   "metadata": {},
   "outputs": [],
   "source": [
    "from sklearn.feature_selection import SelectKBest, f_classif\n",
    "\n",
    "selector = SelectKBest(score_func=f_classif, k=10)\n",
    "X_selected = selector.fit_transform(X_scaled, y)\n",
    "\n",
    "# Get selected feature indices\n",
    "selected_feature_indices = selector.get_support(indices=True)\n",
    "selected_features = X.columns[selected_feature_indices]\n"
   ]
  },
  {
   "cell_type": "code",
   "execution_count": 17,
   "metadata": {},
   "outputs": [
    {
     "name": "stdout",
     "output_type": "stream",
     "text": [
      "Tuning Logistic Regression...\n",
      "Best Parameters for Logistic Regression: {'C': 0.1, 'solver': 'liblinear'}\n",
      "Best Score for Logistic Regression: 0.9165\n",
      "Tuning Random Forest...\n",
      "Best Parameters for Random Forest: {'max_depth': 10, 'n_estimators': 50}\n",
      "Best Score for Random Forest: 0.9135\n",
      "Tuning Neural Network...\n",
      "Best Parameters for Neural Network: {'activation': 'relu', 'early_stopping': True, 'hidden_layer_sizes': (50, 50), 'max_iter': 1000}\n",
      "Best Score for Neural Network: 0.9156\n"
     ]
    },
    {
     "data": {
      "image/png": "[encoded data removed]",
      "text/plain": [
       "<Figure size 1000x600 with 1 Axes>"
      ]
     },
     "metadata": {},
     "output_type": "display_data"
    }
   ],
   "source": [
    "\n",
    "# Split the data\n",
    "X_train, X_test, y_train, y_test = train_test_split(X_selected, y, test_size=0.2, random_state=42)\n",
    "\n",
    "# Define models\n",
    "models = {\n",
    "    'Logistic Regression': LogisticRegression(),\n",
    "    'Random Forest': RandomForestClassifier(),\n",
    "    'Neural Network': MLPClassifier()\n",
    "}\n",
    "\n",
    "# Define hyperparameter grids\n",
    "param_grids = {\n",
    "    'Logistic Regression': {\n",
    "        'C': [0.1, 1, 10],\n",
    "        'solver': ['liblinear']\n",
    "    },\n",
    "    'Random Forest': {\n",
    "        'n_estimators': [50, 100, 200],\n",
    "        'max_depth': [None, 10, 20]\n",
    "    },\n",
    "    'Neural Network': {\n",
    "        'hidden_layer_sizes': [(50,), (100,), (50, 50)],\n",
    "        'activation': ['tanh', 'relu'],\n",
    "        'max_iter': [500, 1000],\n",
    "        'early_stopping': [True]\n",
    "    }\n",
    "}\n",
    "\n",
    "# Store results\n",
    "tuned_results = {}\n",
    "# Perform hyperparameter tuning for each model\n",
    "for name, model in models.items():\n",
    "    print(f\"Tuning {name}...\")\n",
    "    grid_search = GridSearchCV(\n",
    "        estimator=model,\n",
    "        param_grid=param_grids[name],\n",
    "        scoring='accuracy',\n",
    "        cv=5,\n",
    "        n_jobs=-1\n",
    "    )\n",
    "    grid_search.fit(X_train, y_train)\n",
    "    tuned_results[name] = grid_search.best_params_\n",
    "    print(f\"Best Parameters for {name}: {grid_search.best_params_}\")\n",
    "    print(f\"Best Score for {name}: {grid_search.best_score_:.4f}\")\n",
    "\n",
    "# Collect accuracy scores for tuned models\n",
    "scores = []\n",
    "for name, params in tuned_results.items():\n",
    "    model = models[name].set_params(**params)\n",
    "    model.fit(X_train, y_train)\n",
    "    y_pred = model.predict(X_test)\n",
    "    accuracy = accuracy_score(y_test, y_pred)\n",
    "    scores.append((name, accuracy))\n",
    "\n",
    "# Plot accuracy scores with Matplotlib\n",
    "models_names, accuracies = zip(*scores)\n",
    "\n",
    "plt.figure(figsize=(10, 6))\n",
    "plt.bar(models_names, accuracies, color=['blue', 'green', 'orange'])\n",
    "plt.title('Model Accuracy After Hyperparameter Tuning', fontsize=14)\n",
    "plt.xlabel('Model', fontsize=12)\n",
    "plt.ylabel('Accuracy', fontsize=12)\n",
    "plt.ylim(0.8, 1.0)  # Adjust y-axis to focus on higher accuracy\n",
    "plt.xticks(fontsize=10)\n",
    "plt.yticks(fontsize=10)\n",
    "\n",
    "# Annotate bars with accuracy values\n",
    "for i, accuracy in enumerate(accuracies):\n",
    "    plt.text(i, accuracy + 0.005, f\"{accuracy:.2f}\", ha='center', fontsize=10)\n",
    "\n",
    "plt.grid(axis='y', linestyle='--', alpha=0.7)\n",
    "plt.tight_layout()\n",
    "plt.show()"
   ]
  },
  {
   "cell_type": "code",
   "execution_count": 21,
   "metadata": {},
   "outputs": [
    {
     "name": "stdout",
     "output_type": "stream",
     "text": [
      "Classification Report for Logistic Regression:\n",
      "\n",
      "              precision    recall  f1-score   support\n",
      "\n",
      "           0       0.92      0.97      0.95       732\n",
      "           1       0.61      0.36      0.45        92\n",
      "\n",
      "    accuracy                           0.90       824\n",
      "   macro avg       0.77      0.67      0.70       824\n",
      "weighted avg       0.89      0.90      0.89       824\n",
      "\n",
      "Classification Report for Random Forest:\n",
      "\n",
      "              precision    recall  f1-score   support\n",
      "\n",
      "           0       0.93      0.96      0.95       732\n",
      "           1       0.59      0.46      0.52        92\n",
      "\n",
      "    accuracy                           0.90       824\n",
      "   macro avg       0.76      0.71      0.73       824\n",
      "weighted avg       0.90      0.90      0.90       824\n",
      "\n",
      "Classification Report for Neural Network:\n",
      "\n",
      "              precision    recall  f1-score   support\n",
      "\n",
      "           0       0.93      0.96      0.95       732\n",
      "           1       0.58      0.39      0.47        92\n",
      "\n",
      "    accuracy                           0.90       824\n",
      "   macro avg       0.75      0.68      0.71       824\n",
      "weighted avg       0.89      0.90      0.89       824\n",
      "\n"
     ]
    }
   ],
   "source": [
    "from sklearn.metrics import classification_report\n",
    "for name, params in tuned_results.items():\n",
    "    model = models[name].set_params(**params)\n",
    "    y_pred = model.predict(X_test)\n",
    "    print(f\"Classification Report for {name}:\\n\")\n",
    "    print(classification_report(y_test, y_pred))\n"
   ]
  },
  {
   "cell_type": "code",
   "execution_count": 18,
   "metadata": {},
   "outputs": [
    {
     "name": "stdout",
     "output_type": "stream",
     "text": [
      "           Feature       Score\n",
      "10        duration  874.494742\n",
      "19     nr.employed  571.902853\n",
      "12           pdays  510.047074\n",
      "18       euribor3m  402.909438\n",
      "15    emp.var.rate  359.027148\n",
      "13        previous  288.002435\n",
      "7          contact   79.220260\n",
      "14        poutcome   63.655628\n",
      "16  cons.price.idx   40.191766\n",
      "4          default   24.316695\n"
     ]
    }
   ],
   "source": [
    "feature_scores = selector.scores_\n",
    "feature_importance_df = pd.DataFrame({\n",
    "    'Feature': X.columns,\n",
    "    'Score': feature_scores\n",
    "}).sort_values(by='Score', ascending=False)\n",
    "print(feature_importance_df.head(10))\n"
   ]
  },
  {
   "cell_type": "code",
   "execution_count": 23,
   "metadata": {},
   "outputs": [],
   "source": [
    "from joblib import dump\n",
    "for name, params in tuned_results.items():\n",
    "    model = models[name].set_params(**params)\n",
    "    model.fit(X_train, y_train)\n",
    "    dump(model, f\"{name.replace(' ', '_')}_best_model.pkl\")\n"
   ]
  },
  {
   "cell_type": "code",
   "execution_count": null,
   "metadata": {},
   "outputs": [],
   "source": []
  }
 ],
 "metadata": {
  "kernelspec": {
   "display_name": ".venv",
   "language": "python",
   "name": "python3"
  },
  "language_info": {
   "codemirror_mode": {
    "name": "ipython",
    "version": 3
   },
   "file_extension": ".py",
   "mimetype": "text/x-python",
   "name": "python",
   "nbconvert_exporter": "python",
   "pygments_lexer": "ipython3",
   "version": "3.13.0"
  }
 },
 "nbformat": 4,
 "nbformat_minor": 2
}
